{
 "cells": [
  {
   "cell_type": "code",
   "execution_count": 2,
   "id": "3ed0e932-c66e-4d63-b51f-7e181f365f25",
   "metadata": {},
   "outputs": [],
   "source": [
    "a=5"
   ]
  },
  {
   "cell_type": "code",
   "execution_count": 3,
   "id": "b8bd56c5-eaac-4dfd-9af3-f76d4c7aaa1c",
   "metadata": {},
   "outputs": [],
   "source": [
    "b=7"
   ]
  },
  {
   "cell_type": "code",
   "execution_count": 4,
   "id": "82bfed58-7063-4eb6-ac1d-6c1d806b65f4",
   "metadata": {},
   "outputs": [],
   "source": [
    "c=a +b"
   ]
  },
  {
   "cell_type": "code",
   "execution_count": 5,
   "id": "2ddd373e-64ac-4fc7-85a0-a9bc074c4af0",
   "metadata": {},
   "outputs": [
    {
     "name": "stdout",
     "output_type": "stream",
     "text": [
      "12\n"
     ]
    }
   ],
   "source": [
    "print(c)"
   ]
  },
  {
   "cell_type": "code",
   "execution_count": 6,
   "id": "458b27fe-633e-4179-a4e8-cc0750b6cf5c",
   "metadata": {},
   "outputs": [
    {
     "name": "stdout",
     "output_type": "stream",
     "text": [
      "zai\n"
     ]
    }
   ],
   "source": [
    "n=\"zai\"\n",
    "print(n)"
   ]
  },
  {
   "cell_type": "markdown",
   "id": "a02c2f5f-e0f4-4d2e-9557-6bb13fb50d9e",
   "metadata": {},
   "source": [
    "this is a mardown aka headings or blog of info reccomended usecasse above comments for heading click me!"
   ]
  },
  {
   "cell_type": "code",
   "execution_count": 8,
   "id": "33a8c793-a149-4e59-81c8-a0eefe07f900",
   "metadata": {},
   "outputs": [
    {
     "name": "stdout",
     "output_type": "stream",
     "text": [
      "<class 'int'>\n",
      "<class 'str'>\n"
     ]
    }
   ],
   "source": [
    "print(type(a))\n",
    "print(type(n))"
   ]
  },
  {
   "cell_type": "code",
   "execution_count": 10,
   "id": "6887e18d-86c0-4a1a-b764-e0dc36e53e99",
   "metadata": {},
   "outputs": [
    {
     "data": {
      "text/plain": [
       "str"
      ]
     },
     "execution_count": 10,
     "metadata": {},
     "output_type": "execute_result"
    }
   ],
   "source": [
    "type(n) #u dont require to use print to get the type of a var in jupyter"
   ]
  },
  {
   "cell_type": "code",
   "execution_count": 12,
   "id": "e65cb4e9-c98c-460f-b15a-585769b6d904",
   "metadata": {},
   "outputs": [
    {
     "data": {
      "text/plain": [
       "'shazai'"
      ]
     },
     "execution_count": 12,
     "metadata": {},
     "output_type": "execute_result"
    }
   ],
   "source": [
    "c=\"sha\"\n",
    "d=\"zai\"\n",
    "\n",
    "c+d"
   ]
  },
  {
   "cell_type": "code",
   "execution_count": 14,
   "id": "049125dc-8454-456d-988d-56416144f343",
   "metadata": {},
   "outputs": [
    {
     "ename": "ValueError",
     "evalue": "invalid literal for int() with base 10: 'sha'",
     "output_type": "error",
     "traceback": [
      "\u001b[1;31m---------------------------------------------------------------------------\u001b[0m",
      "\u001b[1;31mValueError\u001b[0m                                Traceback (most recent call last)",
      "Cell \u001b[1;32mIn[14], line 1\u001b[0m\n\u001b[1;32m----> 1\u001b[0m \u001b[38;5;28mprint\u001b[39m(\u001b[38;5;28mint\u001b[39m(c)\u001b[38;5;241m+\u001b[39m\u001b[38;5;28mint\u001b[39m(d))\n",
      "\u001b[1;31mValueError\u001b[0m: invalid literal for int() with base 10: 'sha'"
     ]
    }
   ],
   "source": [
    "print(int(c)+int(d)) #typecasting fails cause c and d are actul strings"
   ]
  },
  {
   "cell_type": "code",
   "execution_count": 16,
   "id": "1e720a4b-876e-41e3-b5cb-2d3b153781d5",
   "metadata": {},
   "outputs": [
    {
     "data": {
      "text/plain": [
       "1679"
      ]
     },
     "execution_count": 16,
     "metadata": {},
     "output_type": "execute_result"
    }
   ],
   "source": [
    "c1=\"890\"\n",
    "d1=\"789\"\n",
    "int(c1)+int(d1) "
   ]
  }
 ],
 "metadata": {
  "kernelspec": {
   "display_name": "Python [conda env:base] *",
   "language": "python",
   "name": "conda-base-py"
  },
  "language_info": {
   "codemirror_mode": {
    "name": "ipython",
    "version": 3
   },
   "file_extension": ".py",
   "mimetype": "text/x-python",
   "name": "python",
   "nbconvert_exporter": "python",
   "pygments_lexer": "ipython3",
   "version": "3.13.5"
  }
 },
 "nbformat": 4,
 "nbformat_minor": 5
}

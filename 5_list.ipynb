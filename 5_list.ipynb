{
 "cells": [
  {
   "cell_type": "code",
   "execution_count": 3,
   "id": "5f56c7af-5ed0-4aba-8c37-7ac5497afa88",
   "metadata": {},
   "outputs": [],
   "source": [
    "#pythobn follows pemdas(paranthesis, exponents, multiplication/division, addition/subtraction)\n",
    "\n",
    "#evaaluates right to left"
   ]
  },
  {
   "cell_type": "code",
   "execution_count": 4,
   "id": "d0b0cd73-09a2-45d1-bdd6-d9a002b5c711",
   "metadata": {},
   "outputs": [],
   "source": [
    "z= [3,4,5,6 ,7]"
   ]
  },
  {
   "cell_type": "code",
   "execution_count": 6,
   "id": "bf22b564-fe46-4d5b-b151-bcf88789cae0",
   "metadata": {},
   "outputs": [
    {
     "data": {
      "text/plain": [
       "5"
      ]
     },
     "execution_count": 6,
     "metadata": {},
     "output_type": "execute_result"
    }
   ],
   "source": [
    "z[2]"
   ]
  },
  {
   "cell_type": "code",
   "execution_count": 7,
   "id": "b1f57450-cca7-4d85-ae84-fa129554b55b",
   "metadata": {},
   "outputs": [
    {
     "ename": "IndexError",
     "evalue": "list index out of range",
     "output_type": "error",
     "traceback": [
      "\u001b[1;31m---------------------------------------------------------------------------\u001b[0m",
      "\u001b[1;31mIndexError\u001b[0m                                Traceback (most recent call last)",
      "Cell \u001b[1;32mIn[7], line 1\u001b[0m\n\u001b[1;32m----> 1\u001b[0m z[\u001b[38;5;241m7\u001b[39m]\n",
      "\u001b[1;31mIndexError\u001b[0m: list index out of range"
     ]
    }
   ],
   "source": [
    "z[7]"
   ]
  },
  {
   "cell_type": "code",
   "execution_count": 8,
   "id": "d74822b8-49e4-42b7-a335-7ac1e52c307b",
   "metadata": {},
   "outputs": [],
   "source": [
    "#list are mutable"
   ]
  },
  {
   "cell_type": "code",
   "execution_count": 9,
   "id": "780b878c-34c7-4094-bdd0-1fcc48c6d843",
   "metadata": {},
   "outputs": [],
   "source": [
    "z[0]= 5"
   ]
  },
  {
   "cell_type": "code",
   "execution_count": 10,
   "id": "d7a28501-48b1-4dcf-9d4c-fae668e4e40e",
   "metadata": {},
   "outputs": [
    {
     "data": {
      "text/plain": [
       "[5, 4, 5, 6, 7]"
      ]
     },
     "execution_count": 10,
     "metadata": {},
     "output_type": "execute_result"
    }
   ],
   "source": [
    "z"
   ]
  },
  {
   "cell_type": "code",
   "execution_count": 11,
   "id": "2d5badf4-32c2-4725-ac45-b62652566ce9",
   "metadata": {},
   "outputs": [
    {
     "data": {
      "text/plain": [
       "[5, 4, 5, 6, 7, 49]"
      ]
     },
     "execution_count": 11,
     "metadata": {},
     "output_type": "execute_result"
    }
   ],
   "source": [
    "z.append(49)\n",
    "z"
   ]
  },
  {
   "cell_type": "code",
   "execution_count": 13,
   "id": "2e5ff181-e740-4008-b540-14f4e1603e85",
   "metadata": {},
   "outputs": [
    {
     "data": {
      "text/plain": [
       "[5, 4, 5, 6, 7, 49, [5, 7], [5, 7]]"
      ]
     },
     "execution_count": 13,
     "metadata": {},
     "output_type": "execute_result"
    }
   ],
   "source": [
    "z2= [5, 7]\n",
    "z.append(z2)\n",
    "z"
   ]
  },
  {
   "cell_type": "code",
   "execution_count": 14,
   "id": "de612f70-d0b9-498c-92f9-66b9b381e18e",
   "metadata": {},
   "outputs": [
    {
     "data": {
      "text/plain": [
       "[5, 7, 4, 3]"
      ]
     },
     "execution_count": 14,
     "metadata": {},
     "output_type": "execute_result"
    }
   ],
   "source": [
    "z3= [4,3]\n",
    "z2.extend(z3)\n",
    "z2"
   ]
  },
  {
   "cell_type": "code",
   "execution_count": 15,
   "id": "97aec6de-49de-43e9-98c4-8e0fc88e9559",
   "metadata": {},
   "outputs": [
    {
     "data": {
      "text/plain": [
       "[5, 200, 7, 4, 3]"
      ]
     },
     "execution_count": 15,
     "metadata": {},
     "output_type": "execute_result"
    }
   ],
   "source": [
    "z2.insert(1, 200) # insert 200 at index1\n",
    "z2"
   ]
  },
  {
   "cell_type": "code",
   "execution_count": 16,
   "id": "b2822f31-1f02-42e5-8cc8-8a802557fed0",
   "metadata": {},
   "outputs": [
    {
     "data": {
      "text/plain": [
       "[5, 200, 7, 4]"
      ]
     },
     "execution_count": 16,
     "metadata": {},
     "output_type": "execute_result"
    }
   ],
   "source": [
    "number= z2.pop(4)\n",
    "number\n",
    "z2"
   ]
  },
  {
   "cell_type": "code",
   "execution_count": 17,
   "id": "fe358374-15cf-4822-9a26-18c8a19c86fe",
   "metadata": {},
   "outputs": [
    {
     "data": {
      "text/plain": [
       "3"
      ]
     },
     "execution_count": 17,
     "metadata": {},
     "output_type": "execute_result"
    }
   ],
   "source": [
    "number"
   ]
  },
  {
   "cell_type": "code",
   "execution_count": 19,
   "id": "499d6dc6-50e7-47a5-a16f-aed584decfe3",
   "metadata": {},
   "outputs": [
    {
     "data": {
      "text/plain": [
       "2"
      ]
     },
     "execution_count": 19,
     "metadata": {},
     "output_type": "execute_result"
    }
   ],
   "source": [
    "z2.index(7) #posistion of the no in the list"
   ]
  },
  {
   "cell_type": "code",
   "execution_count": 21,
   "id": "85b59194-f1ae-42d3-bd75-79db8624614c",
   "metadata": {},
   "outputs": [
    {
     "data": {
      "text/plain": [
       "[5, 200, 7, 4, [1, 4, 5, 6, 7]]"
      ]
     },
     "execution_count": 21,
     "metadata": {},
     "output_type": "execute_result"
    }
   ],
   "source": [
    "z2.append([1,4,5,6,7])\n",
    "z2"
   ]
  },
  {
   "cell_type": "code",
   "execution_count": 22,
   "id": "ff5f978c-e1f7-4e09-8312-90211affaa4d",
   "metadata": {},
   "outputs": [
    {
     "ename": "TypeError",
     "evalue": "'list' object cannot be interpreted as an integer",
     "output_type": "error",
     "traceback": [
      "\u001b[1;31m---------------------------------------------------------------------------\u001b[0m",
      "\u001b[1;31mTypeError\u001b[0m                                 Traceback (most recent call last)",
      "Cell \u001b[1;32mIn[22], line 1\u001b[0m\n\u001b[1;32m----> 1\u001b[0m z2\u001b[38;5;241m.\u001b[39mpop([\u001b[38;5;241m1\u001b[39m,\u001b[38;5;241m4\u001b[39m,\u001b[38;5;241m5\u001b[39m,\u001b[38;5;241m6\u001b[39m,\u001b[38;5;241m7\u001b[39m])\n\u001b[0;32m      2\u001b[0m z2\n",
      "\u001b[1;31mTypeError\u001b[0m: 'list' object cannot be interpreted as an integer"
     ]
    }
   ],
   "source": [
    "z2.pop([1,4,5,6,7])\n",
    "z2"
   ]
  },
  {
   "cell_type": "code",
   "execution_count": 23,
   "id": "9e99189a-a3d2-49b5-8852-831e1dd7f6d4",
   "metadata": {},
   "outputs": [
    {
     "data": {
      "text/plain": [
       "[4, 3, 1, 2, 3, 4, 5, 6, 7, 8]"
      ]
     },
     "execution_count": 23,
     "metadata": {},
     "output_type": "execute_result"
    }
   ],
   "source": [
    "z3.extend([1,2,3,4,5,6,7,8])\n",
    "z3"
   ]
  },
  {
   "cell_type": "code",
   "execution_count": 24,
   "id": "b24797b5-51bf-4641-8049-5446c8904284",
   "metadata": {},
   "outputs": [
    {
     "data": {
      "text/plain": [
       "2"
      ]
     },
     "execution_count": 24,
     "metadata": {},
     "output_type": "execute_result"
    }
   ],
   "source": [
    "z3.count(3)\n",
    "z3.count(4)"
   ]
  },
  {
   "cell_type": "code",
   "execution_count": 25,
   "id": "f0730f58-0fe8-450e-927a-6ff4f6ce9813",
   "metadata": {},
   "outputs": [
    {
     "data": {
      "text/plain": [
       "[1, 2, 3, 3, 4, 4, 5, 6, 7, 8]"
      ]
     },
     "execution_count": 25,
     "metadata": {},
     "output_type": "execute_result"
    }
   ],
   "source": [
    "z3.sort()\n",
    "z3"
   ]
  },
  {
   "cell_type": "code",
   "execution_count": 28,
   "id": "bfd73e95-402e-4df7-929f-44f8eb762abb",
   "metadata": {},
   "outputs": [
    {
     "data": {
      "text/plain": [
       "[1, 3, 5, 66, 88, 99]"
      ]
     },
     "execution_count": 28,
     "metadata": {},
     "output_type": "execute_result"
    }
   ],
   "source": [
    "newZ= [88,3,5,66,1,99]\n",
    "sorted(newZ) #returns sorded version of the list in ascending order but the list in not changed to sorded list"
   ]
  },
  {
   "cell_type": "code",
   "execution_count": 29,
   "id": "e954d570-123a-46eb-9aee-84daec7bf864",
   "metadata": {},
   "outputs": [
    {
     "data": {
      "text/plain": [
       "[88, 3, 5, 66, 1, 99]"
      ]
     },
     "execution_count": 29,
     "metadata": {},
     "output_type": "execute_result"
    }
   ],
   "source": [
    "newZ"
   ]
  },
  {
   "cell_type": "code",
   "execution_count": 30,
   "id": "6780defd-c365-4e80-b707-b1f480314a50",
   "metadata": {},
   "outputs": [
    {
     "data": {
      "text/plain": [
       "[1, 3, True, False, [4, 7]]"
      ]
     },
     "execution_count": 30,
     "metadata": {},
     "output_type": "execute_result"
    }
   ],
   "source": [
    "x= [1,3, True, False, [4,7]] # nested list\n",
    "x"
   ]
  },
  {
   "cell_type": "code",
   "execution_count": 31,
   "id": "821687ec-adf4-4ce9-92d8-0bd100d31e35",
   "metadata": {},
   "outputs": [
    {
     "data": {
      "text/plain": [
       "[4, 7]"
      ]
     },
     "execution_count": 31,
     "metadata": {},
     "output_type": "execute_result"
    }
   ],
   "source": [
    "x[4]"
   ]
  },
  {
   "cell_type": "code",
   "execution_count": 32,
   "id": "3cb38155-3273-47b1-bcdf-7d352e392ca6",
   "metadata": {},
   "outputs": [
    {
     "data": {
      "text/plain": [
       "7"
      ]
     },
     "execution_count": 32,
     "metadata": {},
     "output_type": "execute_result"
    }
   ],
   "source": [
    "x[4][1]"
   ]
  },
  {
   "cell_type": "code",
   "execution_count": 33,
   "id": "f240cbd1-7f93-42c4-bc8c-d3c5982216be",
   "metadata": {},
   "outputs": [
    {
     "data": {
      "text/plain": [
       "[1, 2, 3, 3, 4, 4, 5, 6, 7, 8, 1, 3, True, False, [4, 7]]"
      ]
     },
     "execution_count": 33,
     "metadata": {},
     "output_type": "execute_result"
    }
   ],
   "source": [
    "concate= z3+x\n",
    "concate"
   ]
  },
  {
   "cell_type": "code",
   "execution_count": 36,
   "id": "ae85c083-325a-43f2-a680-0210cfb34599",
   "metadata": {},
   "outputs": [],
   "source": [
    "if 33 in z3: # checkinf membership of an elemenrt in the list\n",
    "    print(\"yes\")"
   ]
  },
  {
   "cell_type": "code",
   "execution_count": 37,
   "id": "2a5156aa-1787-4015-8a42-d6805b2e6b72",
   "metadata": {},
   "outputs": [
    {
     "data": {
      "text/plain": [
       "True"
      ]
     },
     "execution_count": 37,
     "metadata": {},
     "output_type": "execute_result"
    }
   ],
   "source": [
    "3 in z3 # another way to so so"
   ]
  },
  {
   "cell_type": "code",
   "execution_count": 38,
   "id": "2aae633c-9931-4e9e-a1f1-648b594bbff5",
   "metadata": {},
   "outputs": [],
   "source": [
    "s= \"jack-tom-kat-shaikh-kebab-tutu-crossair-arsh\""
   ]
  },
  {
   "cell_type": "code",
   "execution_count": 39,
   "id": "7165d97b-c19b-49cd-bdb5-574a8848199e",
   "metadata": {},
   "outputs": [
    {
     "data": {
      "text/plain": [
       "['jack', 'tom', 'kat', 'shaikh', 'kebab', 'tutu', 'crossair', 'arsh']"
      ]
     },
     "execution_count": 39,
     "metadata": {},
     "output_type": "execute_result"
    }
   ],
   "source": [
    "s.split(\"-\")"
   ]
  },
  {
   "cell_type": "code",
   "execution_count": null,
   "id": "34312ce7-3d22-4df2-96e7-eda1f119fac0",
   "metadata": {},
   "outputs": [],
   "source": []
  }
 ],
 "metadata": {
  "kernelspec": {
   "display_name": "Python [conda env:base] *",
   "language": "python",
   "name": "conda-base-py"
  },
  "language_info": {
   "codemirror_mode": {
    "name": "ipython",
    "version": 3
   },
   "file_extension": ".py",
   "mimetype": "text/x-python",
   "name": "python",
   "nbconvert_exporter": "python",
   "pygments_lexer": "ipython3",
   "version": "3.13.5"
  }
 },
 "nbformat": 4,
 "nbformat_minor": 5
}

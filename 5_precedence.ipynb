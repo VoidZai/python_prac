{
 "cells": [
  {
   "cell_type": "code",
   "execution_count": 3,
   "id": "5f56c7af-5ed0-4aba-8c37-7ac5497afa88",
   "metadata": {},
   "outputs": [],
   "source": [
    "#pythobn follows pemdas(paranthesis, exponents, multiplication/division, addition/subtraction)\n",
    "\n",
    "#evaaluates right to left"
   ]
  },
  {
   "cell_type": "code",
   "execution_count": null,
   "id": "d0b0cd73-09a2-45d1-bdd6-d9a002b5c711",
   "metadata": {},
   "outputs": [],
   "source": []
  }
 ],
 "metadata": {
  "kernelspec": {
   "display_name": "Python [conda env:base] *",
   "language": "python",
   "name": "conda-base-py"
  },
  "language_info": {
   "codemirror_mode": {
    "name": "ipython",
    "version": 3
   },
   "file_extension": ".py",
   "mimetype": "text/x-python",
   "name": "python",
   "nbconvert_exporter": "python",
   "pygments_lexer": "ipython3",
   "version": "3.13.5"
  }
 },
 "nbformat": 4,
 "nbformat_minor": 5
}

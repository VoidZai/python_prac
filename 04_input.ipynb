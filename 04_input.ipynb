{
 "cells": [
  {
   "cell_type": "code",
   "execution_count": 9,
   "id": "a8a2c02c-1521-41b2-be76-d0ca86971165",
   "metadata": {},
   "outputs": [
    {
     "name": "stdin",
     "output_type": "stream",
     "text": [
      "enter the value of a 66\n"
     ]
    }
   ],
   "source": [
    "a= input(\"enter the value of a\") # by default takes user input as string"
   ]
  },
  {
   "cell_type": "code",
   "execution_count": 2,
   "id": "303bdfef-e450-454c-8f32-52cecab41de8",
   "metadata": {},
   "outputs": [
    {
     "data": {
      "text/plain": [
       "'66'"
      ]
     },
     "execution_count": 2,
     "metadata": {},
     "output_type": "execute_result"
    }
   ],
   "source": [
    "a"
   ]
  },
  {
   "cell_type": "code",
   "execution_count": 3,
   "id": "7ce18b45-990b-4676-b9ce-9239b1781074",
   "metadata": {},
   "outputs": [
    {
     "name": "stdin",
     "output_type": "stream",
     "text": [
      "enter the value of b 69\n"
     ]
    }
   ],
   "source": [
    "b= input(\"enter the value of b\")"
   ]
  },
  {
   "cell_type": "code",
   "execution_count": 4,
   "id": "abc5ce78-a5a3-4bc2-8bc1-439b1651c9db",
   "metadata": {},
   "outputs": [
    {
     "data": {
      "text/plain": [
       "'69'"
      ]
     },
     "execution_count": 4,
     "metadata": {},
     "output_type": "execute_result"
    }
   ],
   "source": [
    "b"
   ]
  },
  {
   "cell_type": "code",
   "execution_count": 6,
   "id": "0be679ac-a0b4-4646-b545-84430e70c1da",
   "metadata": {},
   "outputs": [
    {
     "data": {
      "text/plain": [
       "'6669'"
      ]
     },
     "execution_count": 6,
     "metadata": {},
     "output_type": "execute_result"
    }
   ],
   "source": [
    "a + b #returns concatenated string value"
   ]
  },
  {
   "cell_type": "code",
   "execution_count": 8,
   "id": "abb34ec0-3170-426a-8568-6ffc7095fdad",
   "metadata": {},
   "outputs": [
    {
     "data": {
      "text/plain": [
       "135"
      ]
     },
     "execution_count": 8,
     "metadata": {},
     "output_type": "execute_result"
    }
   ],
   "source": [
    "int(a) + int(b) #typecating it to integer"
   ]
  },
  {
   "cell_type": "code",
   "execution_count": null,
   "id": "c8d769a8-79e9-41f9-ad37-d087d1ad2841",
   "metadata": {},
   "outputs": [],
   "source": []
  }
 ],
 "metadata": {
  "kernelspec": {
   "display_name": "Python [conda env:base] *",
   "language": "python",
   "name": "conda-base-py"
  },
  "language_info": {
   "codemirror_mode": {
    "name": "ipython",
    "version": 3
   },
   "file_extension": ".py",
   "mimetype": "text/x-python",
   "name": "python",
   "nbconvert_exporter": "python",
   "pygments_lexer": "ipython3",
   "version": "3.13.5"
  }
 },
 "nbformat": 4,
 "nbformat_minor": 5
}

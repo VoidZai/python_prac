a=5


b=7


c=a +b


print(c)


n="zai"
print(n)





print(type(a))
print(type(n))


type(n) #u dont require to use print to get the type of a var in jupyter


c="sha"
d="zai"

c+d


int(c)+int(d) #typecasting




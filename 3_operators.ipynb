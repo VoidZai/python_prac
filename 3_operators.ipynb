{
 "cells": [
  {
   "cell_type": "code",
   "execution_count": 12,
   "id": "39902d6f-b196-47b5-9e6c-70ad95d066b0",
   "metadata": {},
   "outputs": [],
   "source": [
    "a= 11\n",
    "a1= 5"
   ]
  },
  {
   "cell_type": "code",
   "execution_count": 6,
   "id": "790845b2-d12e-4e43-b456-c158f03847d7",
   "metadata": {},
   "outputs": [
    {
     "data": {
      "text/plain": [
       "15"
      ]
     },
     "execution_count": 6,
     "metadata": {},
     "output_type": "execute_result"
    }
   ],
   "source": [
    "a+a1"
   ]
  },
  {
   "cell_type": "code",
   "execution_count": 7,
   "id": "05866f25-9690-4c3a-8f61-c8661f3434c2",
   "metadata": {},
   "outputs": [
    {
     "data": {
      "text/plain": [
       "5"
      ]
     },
     "execution_count": 7,
     "metadata": {},
     "output_type": "execute_result"
    }
   ],
   "source": [
    "a-a1"
   ]
  },
  {
   "cell_type": "code",
   "execution_count": 8,
   "id": "b0e9447c-6b80-442c-97a6-77f038edaf22",
   "metadata": {},
   "outputs": [
    {
     "data": {
      "text/plain": [
       "50"
      ]
     },
     "execution_count": 8,
     "metadata": {},
     "output_type": "execute_result"
    }
   ],
   "source": [
    "a*a1"
   ]
  },
  {
   "cell_type": "code",
   "execution_count": 13,
   "id": "f7555c12-7d5c-4aa9-88f3-e3471c389178",
   "metadata": {},
   "outputs": [
    {
     "data": {
      "text/plain": [
       "2.2"
      ]
     },
     "execution_count": 13,
     "metadata": {},
     "output_type": "execute_result"
    }
   ],
   "source": [
    "a/a1 #returns ans as floating value"
   ]
  },
  {
   "cell_type": "code",
   "execution_count": 14,
   "id": "40d55e2e-d9b8-4b37-906e-48808bfa0381",
   "metadata": {},
   "outputs": [
    {
     "data": {
      "text/plain": [
       "2"
      ]
     },
     "execution_count": 14,
     "metadata": {},
     "output_type": "execute_result"
    }
   ],
   "source": [
    "a//a1 #returns ans as integer value "
   ]
  },
  {
   "cell_type": "code",
   "execution_count": 16,
   "id": "efd75559-b89f-4380-b5a8-c5d8f4e22f11",
   "metadata": {},
   "outputs": [
    {
     "data": {
      "text/plain": [
       "27"
      ]
     },
     "execution_count": 16,
     "metadata": {},
     "output_type": "execute_result"
    }
   ],
   "source": [
    "3**3 # returns 3 power 3, 3^3"
   ]
  },
  {
   "cell_type": "code",
   "execution_count": 18,
   "id": "7c6bcdde-b856-4f6f-8ac5-c1d82588d03a",
   "metadata": {},
   "outputs": [
    {
     "data": {
      "text/plain": [
       "1"
      ]
     },
     "execution_count": 18,
     "metadata": {},
     "output_type": "execute_result"
    }
   ],
   "source": [
    "a%a1"
   ]
  },
  {
   "cell_type": "code",
   "execution_count": 19,
   "id": "1aa90cd1-89f6-4ff4-a9d2-ac8af370d7a2",
   "metadata": {},
   "outputs": [],
   "source": [
    "a=45"
   ]
  },
  {
   "cell_type": "code",
   "execution_count": 20,
   "id": "bb712afb-96ee-40de-89de-b396d892cd39",
   "metadata": {},
   "outputs": [],
   "source": [
    "b=4"
   ]
  },
  {
   "cell_type": "code",
   "execution_count": 21,
   "id": "8d96038e-bdca-4d9f-8b2d-a5d7f54d14d4",
   "metadata": {},
   "outputs": [
    {
     "data": {
      "text/plain": [
       "True"
      ]
     },
     "execution_count": 21,
     "metadata": {},
     "output_type": "execute_result"
    }
   ],
   "source": [
    "a>b"
   ]
  },
  {
   "cell_type": "code",
   "execution_count": 22,
   "id": "46938016-a240-46e6-a29b-406e1d109465",
   "metadata": {},
   "outputs": [
    {
     "data": {
      "text/plain": [
       "False"
      ]
     },
     "execution_count": 22,
     "metadata": {},
     "output_type": "execute_result"
    }
   ],
   "source": [
    "a<b"
   ]
  },
  {
   "cell_type": "code",
   "execution_count": 24,
   "id": "5e97ac11-2db2-473c-bfe1-db3ec1648176",
   "metadata": {},
   "outputs": [],
   "source": [
    "b1= True\n",
    "b2= False"
   ]
  },
  {
   "cell_type": "code",
   "execution_count": 25,
   "id": "9488bb1c-cc39-4674-8ec5-cdfeaddde4ce",
   "metadata": {},
   "outputs": [
    {
     "data": {
      "text/plain": [
       "False"
      ]
     },
     "execution_count": 25,
     "metadata": {},
     "output_type": "execute_result"
    }
   ],
   "source": [
    "not(b1)"
   ]
  },
  {
   "cell_type": "code",
   "execution_count": 26,
   "id": "ec0bbb81-e4c5-4ed1-906f-18595570c0e8",
   "metadata": {},
   "outputs": [
    {
     "data": {
      "text/plain": [
       "True"
      ]
     },
     "execution_count": 26,
     "metadata": {},
     "output_type": "execute_result"
    }
   ],
   "source": [
    "b1 or b2"
   ]
  },
  {
   "cell_type": "code",
   "execution_count": 27,
   "id": "52970d6e-0032-4294-84b3-c157fa008e06",
   "metadata": {},
   "outputs": [
    {
     "data": {
      "text/plain": [
       "False"
      ]
     },
     "execution_count": 27,
     "metadata": {},
     "output_type": "execute_result"
    }
   ],
   "source": [
    "b1 and b2"
   ]
  },
  {
   "cell_type": "code",
   "execution_count": 28,
   "id": "252fe5ab-6e1e-4b5f-a5fb-60ee0fd2a2ec",
   "metadata": {},
   "outputs": [],
   "source": [
    "a= 45"
   ]
  },
  {
   "cell_type": "code",
   "execution_count": 29,
   "id": "73a2c93a-065c-4d12-9285-9d248eb557cc",
   "metadata": {},
   "outputs": [],
   "source": [
    "a +=4"
   ]
  },
  {
   "cell_type": "code",
   "execution_count": 30,
   "id": "36e16b0c-ed37-40cc-af93-540eb1c81013",
   "metadata": {},
   "outputs": [
    {
     "data": {
      "text/plain": [
       "49"
      ]
     },
     "execution_count": 30,
     "metadata": {},
     "output_type": "execute_result"
    }
   ],
   "source": [
    "a"
   ]
  },
  {
   "cell_type": "code",
   "execution_count": 31,
   "id": "f624de72-1ae2-4a3e-85da-fe852450ada6",
   "metadata": {},
   "outputs": [],
   "source": [
    "a -= 4"
   ]
  },
  {
   "cell_type": "code",
   "execution_count": 32,
   "id": "c563c422-ea9f-4e4f-a976-9f5b5c6674a1",
   "metadata": {},
   "outputs": [
    {
     "data": {
      "text/plain": [
       "45"
      ]
     },
     "execution_count": 32,
     "metadata": {},
     "output_type": "execute_result"
    }
   ],
   "source": [
    "a"
   ]
  },
  {
   "cell_type": "code",
   "execution_count": 33,
   "id": "f6350146-9c0f-4058-b38d-32b03dda13ad",
   "metadata": {},
   "outputs": [
    {
     "data": {
      "text/plain": [
       "180"
      ]
     },
     "execution_count": 33,
     "metadata": {},
     "output_type": "execute_result"
    }
   ],
   "source": [
    "a *= 4\n",
    "a"
   ]
  },
  {
   "cell_type": "code",
   "execution_count": 34,
   "id": "0db539e5-3292-44f1-8bc9-953e0731fdc7",
   "metadata": {},
   "outputs": [
    {
     "data": {
      "text/plain": [
       "32400"
      ]
     },
     "execution_count": 34,
     "metadata": {},
     "output_type": "execute_result"
    }
   ],
   "source": [
    "a **= 2 # returns a = a ** 2\n",
    "a"
   ]
  },
  {
   "cell_type": "code",
   "execution_count": null,
   "id": "031a58a4-5743-488b-a174-0d5a78c69494",
   "metadata": {},
   "outputs": [],
   "source": []
  }
 ],
 "metadata": {
  "kernelspec": {
   "display_name": "Python [conda env:base] *",
   "language": "python",
   "name": "conda-base-py"
  },
  "language_info": {
   "codemirror_mode": {
    "name": "ipython",
    "version": 3
   },
   "file_extension": ".py",
   "mimetype": "text/x-python",
   "name": "python",
   "nbconvert_exporter": "python",
   "pygments_lexer": "ipython3",
   "version": "3.13.5"
  }
 },
 "nbformat": 4,
 "nbformat_minor": 5
}

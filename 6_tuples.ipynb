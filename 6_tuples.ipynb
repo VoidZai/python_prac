{
 "cells": [
  {
   "cell_type": "code",
   "execution_count": 1,
   "id": "c1bcef43-9552-4e72-a1ba-75121dd2d5cd",
   "metadata": {},
   "outputs": [],
   "source": [
    "t= (5,64,23,44)\n",
    "l= [7,8,9,10,29]"
   ]
  },
  {
   "cell_type": "code",
   "execution_count": 2,
   "id": "7c4c0659-4560-4092-bd48-84c0d670b930",
   "metadata": {},
   "outputs": [
    {
     "data": {
      "text/plain": [
       "(5, 64, 23, 44)"
      ]
     },
     "execution_count": 2,
     "metadata": {},
     "output_type": "execute_result"
    }
   ],
   "source": [
    "t"
   ]
  },
  {
   "cell_type": "code",
   "execution_count": 3,
   "id": "eed1fb9a-a847-4ddc-b17a-77e019c4fa95",
   "metadata": {},
   "outputs": [
    {
     "data": {
      "text/plain": [
       "[7, 8, 9, 10, 29]"
      ]
     },
     "execution_count": 3,
     "metadata": {},
     "output_type": "execute_result"
    }
   ],
   "source": [
    "l"
   ]
  },
  {
   "cell_type": "code",
   "execution_count": 4,
   "id": "61a2f126-7c8f-4ae5-affa-e790f97f889d",
   "metadata": {},
   "outputs": [
    {
     "data": {
      "text/plain": [
       "tuple"
      ]
     },
     "execution_count": 4,
     "metadata": {},
     "output_type": "execute_result"
    }
   ],
   "source": [
    "type(t)"
   ]
  },
  {
   "cell_type": "code",
   "execution_count": 5,
   "id": "78e2ad50-d46c-4be5-83e7-4bf4063cee78",
   "metadata": {},
   "outputs": [
    {
     "data": {
      "text/plain": [
       "list"
      ]
     },
     "execution_count": 5,
     "metadata": {},
     "output_type": "execute_result"
    }
   ],
   "source": [
    "type(l)"
   ]
  },
  {
   "cell_type": "code",
   "execution_count": 6,
   "id": "1dc303a2-538a-406f-8db9-bf9df2602598",
   "metadata": {},
   "outputs": [
    {
     "data": {
      "text/plain": [
       "4"
      ]
     },
     "execution_count": 6,
     "metadata": {},
     "output_type": "execute_result"
    }
   ],
   "source": [
    "len(t)"
   ]
  },
  {
   "cell_type": "code",
   "execution_count": 8,
   "id": "dc983a9c-82fb-4a2e-8861-5f7865233277",
   "metadata": {},
   "outputs": [
    {
     "ename": "TypeError",
     "evalue": "'tuple' object does not support item assignment",
     "output_type": "error",
     "traceback": [
      "\u001b[1;31m---------------------------------------------------------------------------\u001b[0m",
      "\u001b[1;31mTypeError\u001b[0m                                 Traceback (most recent call last)",
      "Cell \u001b[1;32mIn[8], line 2\u001b[0m\n\u001b[0;32m      1\u001b[0m \u001b[38;5;66;03m# tuples are immutable\u001b[39;00m\n\u001b[1;32m----> 2\u001b[0m t[\u001b[38;5;241m0\u001b[39m]\u001b[38;5;241m=\u001b[39m\u001b[38;5;241m99\u001b[39m\n",
      "\u001b[1;31mTypeError\u001b[0m: 'tuple' object does not support item assignment"
     ]
    }
   ],
   "source": [
    "# tuples are immutable\n",
    "t[0]=99"
   ]
  },
  {
   "cell_type": "code",
   "execution_count": 9,
   "id": "ea1d06bd-9e06-47e2-9e53-c4029cb47599",
   "metadata": {},
   "outputs": [
    {
     "data": {
      "text/plain": [
       "5"
      ]
     },
     "execution_count": 9,
     "metadata": {},
     "output_type": "execute_result"
    }
   ],
   "source": [
    "t[0]"
   ]
  },
  {
   "cell_type": "code",
   "execution_count": 10,
   "id": "7e8d0fbc-fbfe-455f-ba54-89a5cd0fe749",
   "metadata": {},
   "outputs": [],
   "source": [
    "#packing unpacking of tuple\n",
    "\n",
    "#packing\n",
    "person= (\"Alice\", 25, \"Engineer\")\n",
    "\n",
    "#unpacking\n",
    "name, age, profession= person"
   ]
  },
  {
   "cell_type": "code",
   "execution_count": 11,
   "id": "bc9aaca5-31b7-48d0-aaa6-9cabf5debdfd",
   "metadata": {},
   "outputs": [
    {
     "data": {
      "text/plain": [
       "'Alice'"
      ]
     },
     "execution_count": 11,
     "metadata": {},
     "output_type": "execute_result"
    }
   ],
   "source": [
    "name"
   ]
  },
  {
   "cell_type": "code",
   "execution_count": 12,
   "id": "cf5d606f-6f84-4a0c-8b4e-ce02d0e2b0bd",
   "metadata": {},
   "outputs": [
    {
     "data": {
      "text/plain": [
       "25"
      ]
     },
     "execution_count": 12,
     "metadata": {},
     "output_type": "execute_result"
    }
   ],
   "source": [
    "age"
   ]
  },
  {
   "cell_type": "code",
   "execution_count": 13,
   "id": "16ef10f3-83de-42ae-b276-e76fc7b40748",
   "metadata": {},
   "outputs": [
    {
     "data": {
      "text/plain": [
       "'Engineer'"
      ]
     },
     "execution_count": 13,
     "metadata": {},
     "output_type": "execute_result"
    }
   ],
   "source": [
    "profession"
   ]
  },
  {
   "cell_type": "code",
   "execution_count": 19,
   "id": "8f25eb0e-82a8-43d9-a1cb-1c7c45e1ebe5",
   "metadata": {},
   "outputs": [
    {
     "data": {
      "text/plain": [
       "8"
      ]
     },
     "execution_count": 19,
     "metadata": {},
     "output_type": "execute_result"
    }
   ],
   "source": [
    "a=9\n",
    "b=10\n",
    "a & b"
   ]
  },
  {
   "cell_type": "code",
   "execution_count": null,
   "id": "f08ab156-28c0-4efc-b03f-a31431d08b19",
   "metadata": {},
   "outputs": [],
   "source": []
  }
 ],
 "metadata": {
  "kernelspec": {
   "display_name": "Python [conda env:base] *",
   "language": "python",
   "name": "conda-base-py"
  },
  "language_info": {
   "codemirror_mode": {
    "name": "ipython",
    "version": 3
   },
   "file_extension": ".py",
   "mimetype": "text/x-python",
   "name": "python",
   "nbconvert_exporter": "python",
   "pygments_lexer": "ipython3",
   "version": "3.13.5"
  }
 },
 "nbformat": 4,
 "nbformat_minor": 5
}

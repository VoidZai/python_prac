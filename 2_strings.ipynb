{
 "cells": [
  {
   "cell_type": "code",
   "execution_count": 1,
   "id": "e0cc9025-697d-4fdb-8dc6-6185b97c4299",
   "metadata": {},
   "outputs": [
    {
     "data": {
      "text/plain": [
       "'zai'"
      ]
     },
     "execution_count": 1,
     "metadata": {},
     "output_type": "execute_result"
    }
   ],
   "source": [
    "name=\"zai\"\n",
    "name"
   ]
  },
  {
   "cell_type": "code",
   "execution_count": 3,
   "id": "b3b90d4f-f44c-464f-a023-b7acea2d959c",
   "metadata": {},
   "outputs": [
    {
     "data": {
      "text/plain": [
       "'ZAI'"
      ]
     },
     "execution_count": 3,
     "metadata": {},
     "output_type": "execute_result"
    }
   ],
   "source": [
    "name.upper() #uppercasse\n"
   ]
  },
  {
   "cell_type": "code",
   "execution_count": 4,
   "id": "f1afe265-8767-497e-b4d5-1ade976588af",
   "metadata": {},
   "outputs": [
    {
     "data": {
      "text/plain": [
       "False"
      ]
     },
     "execution_count": 4,
     "metadata": {},
     "output_type": "execute_result"
    }
   ],
   "source": [
    "name.endswith(\"sha\") #checks if it ends with sha\n"
   ]
  },
  {
   "cell_type": "code",
   "execution_count": 5,
   "id": "2d5f4b67-f530-4b3e-b067-ad2a6db461c8",
   "metadata": {},
   "outputs": [
    {
     "data": {
      "text/plain": [
       "'zai'"
      ]
     },
     "execution_count": 5,
     "metadata": {},
     "output_type": "execute_result"
    }
   ],
   "source": [
    "name.lower() #;owercase\n"
   ]
  },
  {
   "cell_type": "code",
   "execution_count": 6,
   "id": "0c57c415-29f8-479f-b1a6-73bccf91dd9b",
   "metadata": {},
   "outputs": [
    {
     "data": {
      "text/plain": [
       "0"
      ]
     },
     "execution_count": 6,
     "metadata": {},
     "output_type": "execute_result"
    }
   ],
   "source": [
    "name.count(\"r\") #counts the no of r's in the string\n"
   ]
  },
  {
   "cell_type": "code",
   "execution_count": 7,
   "id": "3772ecb0-b3da-412e-96d3-06e5d4766c93",
   "metadata": {},
   "outputs": [
    {
     "data": {
      "text/plain": [
       "3"
      ]
     },
     "execution_count": 7,
     "metadata": {},
     "output_type": "execute_result"
    }
   ],
   "source": [
    "len(name)"
   ]
  },
  {
   "cell_type": "code",
   "execution_count": 9,
   "id": "437390e0-2536-4e0b-b2ac-5a8d31ea0370",
   "metadata": {},
   "outputs": [
    {
     "data": {
      "text/plain": [
       "'z'"
      ]
     },
     "execution_count": 9,
     "metadata": {},
     "output_type": "execute_result"
    }
   ],
   "source": [
    "name[0:1] #slicing 0 to n-1"
   ]
  },
  {
   "cell_type": "code",
   "execution_count": 11,
   "id": "ebc758c3-c734-481d-b9d9-4db1dbb650bb",
   "metadata": {},
   "outputs": [
    {
     "data": {
      "text/plain": [
       "'haZaiOnTheSk'"
      ]
     },
     "execution_count": 11,
     "metadata": {},
     "output_type": "execute_result"
    }
   ],
   "source": [
    "n= \"ShaZaiOnTheSky\" #negative indeces\n",
    "n[1:-1]"
   ]
  },
  {
   "cell_type": "code",
   "execution_count": 15,
   "id": "59d68aad-63c4-4909-9c79-1a96c5a97029",
   "metadata": {},
   "outputs": [
    {
     "data": {
      "text/plain": [
       "'haZaiOnTheSk'"
      ]
     },
     "execution_count": 15,
     "metadata": {},
     "output_type": "execute_result"
    }
   ],
   "source": [
    "n[1:13] #can be represented as [1:-1]"
   ]
  },
  {
   "cell_type": "code",
   "execution_count": 18,
   "id": "b67ba176-0e72-417c-beba-4cb353ae97d6",
   "metadata": {},
   "outputs": [
    {
     "data": {
      "text/plain": [
       "'haZaiOnTheSk'"
      ]
     },
     "execution_count": 18,
     "metadata": {},
     "output_type": "execute_result"
    }
   ],
   "source": [
    "n[-13:-1] #can be representeed as [1:-1]"
   ]
  },
  {
   "cell_type": "code",
   "execution_count": null,
   "id": "8f17dc51-a115-4cb0-919a-ef1bc8f0db2a",
   "metadata": {},
   "outputs": [],
   "source": []
  }
 ],
 "metadata": {
  "kernelspec": {
   "display_name": "Python [conda env:base] *",
   "language": "python",
   "name": "conda-base-py"
  },
  "language_info": {
   "codemirror_mode": {
    "name": "ipython",
    "version": 3
   },
   "file_extension": ".py",
   "mimetype": "text/x-python",
   "name": "python",
   "nbconvert_exporter": "python",
   "pygments_lexer": "ipython3",
   "version": "3.13.5"
  }
 },
 "nbformat": 4,
 "nbformat_minor": 5
}
